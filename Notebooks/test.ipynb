{
 "cells": [
  {
   "cell_type": "markdown",
   "id": "fc12889a",
   "metadata": {},
   "source": [
    "# UAV 3D Trajectory Prediction using GRU"
   ]
  },
  {
   "cell_type": "markdown",
   "id": "b5cdcd01",
   "metadata": {},
   "source": [
    "## Load and Test the Trained Model"
   ]
  },
  {
   "cell_type": "markdown",
   "id": "13a654f2",
   "metadata": {},
   "source": [
    "### Import Required Libraries"
   ]
  },
  {
   "cell_type": "code",
   "execution_count": null,
   "id": "e34725c3",
   "metadata": {},
   "outputs": [],
   "source": [
    "import torch\n",
    "import numpy as np\n",
    "import matplotlib.pyplot as plt\n",
    "from torch.utils.data import DataLoader, TensorDataset"
   ]
  },
  {
   "cell_type": "markdown",
   "id": "bbb5e4ed",
   "metadata": {},
   "source": [
    "### Load the Trained Model"
   ]
  },
  {
   "cell_type": "code",
   "execution_count": null,
   "id": "57af975f",
   "metadata": {},
   "outputs": [],
   "source": [
    "class TrajectoryPredictor(torch.nn.Module):\n",
    "    def __init__(self, input_dim, hidden_dim, output_dim, num_layers, dropout=0.5):\n",
    "        super(TrajectoryPredictor, self).__init__()\n",
    "        self.hidden_dim = hidden_dim\n",
    "        self.gru1 = torch.nn.GRU(input_dim, hidden_dim, num_layers, batch_first=True, dropout=dropout)\n",
    "        self.gru2 = torch.nn.GRU(hidden_dim, hidden_dim, num_layers, batch_first=True)\n",
    "        self.fc = torch.nn.Linear(hidden_dim, output_dim)\n",
    "    def forward(self, x):\n",
    "        out, h_n = self.gru1(x)\n",
    "        dec_input = torch.zeros(x.size(0), 10, self.hidden_dim).to(x.device)\n",
    "        out, _ = self.gru2(dec_input, h_n)\n",
    "        out = self.fc(out)\n",
    "        return out\n",
    "\n",
    "model = TrajectoryPredictor(input_dim=3, hidden_dim=64, output_dim=3, num_layers=2, dropout=0.5)\n",
    "model.load_state_dict(torch.load('5000_pos_max_norm_64.pth'))\n",
    "model.eval()"
   ]
  },
  {
   "cell_type": "markdown",
   "id": "7bd64819",
   "metadata": {},
   "source": [
    "### Load Test Data"
   ]
  },
  {
   "cell_type": "code",
   "execution_count": null,
   "id": "7ff44116",
   "metadata": {},
   "outputs": [],
   "source": [
    "# Assuming the test data is loaded similarly to how the training data was loaded\n",
    "test_data = np.load('test_data.npz')\n",
    "test_inputs = test_data['inputs']\n",
    "test_outputs = test_data['outputs']\n",
    "test_dataset = TensorDataset(torch.tensor(test_inputs, dtype=torch.float32), torch.tensor(test_outputs, dtype=torch.float32))\n",
    "test_loader = DataLoader(test_dataset, batch_size=64)"
   ]
  },
  {
   "cell_type": "markdown",
   "id": "4f3b590d",
   "metadata": {},
   "source": [
    "### Evaluate the Model on Test Data"
   ]
  },
  {
   "cell_type": "code",
   "execution_count": null,
   "id": "5c84e6be",
   "metadata": {},
   "outputs": [],
   "source": [
    "def evaluate_model(model, loader):\n",
    "    model.eval()\n",
    "    total_mse, total_rmse, total_mae, total_r2, total_adj_r2 = 0.0, 0.0, 0.0, 0.0, 0.0\n",
    "    total_samples = 0\n",
    "\n",
    "    with torch.no_grad():\n",
    "        for inputs, targets in loader:\n",
    "            inputs, targets = inputs.to(device), targets.to(device)\n",
    "            outputs = model(inputs)\n",
    "\n",
    "            # Calculate Mean Squared Error\n",
    "            mse = ((targets - outputs) ** 2).mean()\n",
    "            total_mse += mse * inputs.size(0)\n",
    "\n",
    "            # Calculate Root Mean Squared Error\n",
    "            rmse = torch.sqrt(mse)\n",
    "            total_rmse += rmse * inputs.size(0)\n",
    "\n",
    "            # Calculate Mean Absolute Error\n",
    "            mae = torch.abs(targets - outputs).mean()\n",
    "            total_mae += mae * inputs.size(0)\n",
    "\n",
    "            # Calculate R2 Score\n",
    "            ss_res = mse * targets.numel()\n",
    "            ss_tot = ((targets - targets.mean()) ** 2).sum()\n",
    "            r2 = 1 - ss_res / ss_tot\n",
    "            total_r2 += r2 * inputs.size(0)\n",
    "\n",
    "            # Calculate Adjusted R2 Score\n",
    "            adjusted_r2 = 1 - (1 - r2) * (inputs.size(0) - 1) / (inputs.size(0) - inputs.size(1) - 1)\n",
    "            total_adj_r2 += adjusted_r2 * inputs.size(0)\n",
    "\n",
    "            total_samples += inputs.size(0)\n",
    "\n",
    "    # Compile metrics\n",
    "    evaluation_results = {\n",
    "        'MSE': total_mse / total_samples,\n",
    "        'RMSE': total_rmse / total_samples,\n",
    "        'MAE': total_mae / total_samples,\n",
    "        'R2': total_r2 / total_samples,\n",
    "        'Adjusted R2': total_adj_r2 / total_samples\n",
    "    }\n",
    "    return evaluation_results\n",
    "\n",
    "# Evaluate the model on the test dataset\n",
    "test_metrics = evaluate_model(model, test_loader)\n",
    "print(\"Test Metrics:\", test_metrics)"
   ]
  },
  {
   "cell_type": "markdown",
   "id": "59a43858",
   "metadata": {},
   "source": [
    "### Visualizing Predictions"
   ]
  },
  {
   "cell_type": "code",
   "execution_count": null,
   "id": "d9b522d3",
   "metadata": {},
   "outputs": [],
   "source": [
    "# Function to plot trajectories\n",
    "def plot_trajectories(inputs, targets, predictions, filename):\n",
    "        '''\n",
    "    Plot the input, target, and predicted trajectories in 3D.\n",
    "    Saves the plot to a specified filename.\n",
    "    '''\n",
    "    fig = plt.figure(figsize=(10, 8))\n",
    "    ax = fig.add_subplot(111, projection='3d')\n",
    "    \n",
    "    # Plotting the trajectories\n",
    "    ax.plot(inputs[:, 0], inputs[:, 1], inputs[:, 2], label='Input Sequence', color='blue')\n",
    "    ax.plot(targets[:, 0], targets[:, 1], targets[:, 2], label='True Future Trajectory', color='green')\n",
    "    ax.plot(predictions[:, 0], predictions[:, 1], predictions[:, 2], label='Predicted Trajectory', color='red', linestyle='--')\n",
    "    \n",
    "    # Setting labels and title\n",
    "    ax.set_xlabel('X Axis')\n",
    "    ax.set_ylabel('Y Axis')\n",
    "    ax.set_zlabel('Z Axis')\n",
    "    ax.set_title('3D Trajectory Prediction')\n",
    "    ax.legend()\n",
    "    \n",
    "    # Saving the plot\n",
    "    plt.savefig(filename, bbox_inches='tight')\n",
    "    plt.close()\n",
    "\n",
    "# Plotting a few test examples\n",
    "for i, (inputs, targets) in enumerate(test_loader):\n",
    "    if i >= 5:  # Limit to first 5 batches\n",
    "        break\n",
    "    inputs, targets = inputs.to('cpu'), targets.to('cpu')\n",
    "    predictions = model(inputs)\n",
    "    for j in range(inputs.shape[0]):\n",
    "        plot_filename = f'test_trajectory_{i}_{j}.png'\n",
    "        plot_trajectories(inputs[j].numpy(), targets[j].numpy(), predictions[j].detach().numpy(), plot_filename)"
   ]
  }
 ],
 "metadata": {
  "language_info": {
   "name": "python"
  }
 },
 "nbformat": 4,
 "nbformat_minor": 5
}
